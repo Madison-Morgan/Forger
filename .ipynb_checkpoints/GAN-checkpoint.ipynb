{
 "cells": [
  {
   "cell_type": "markdown",
   "metadata": {},
   "source": [
    "# FORGER"
   ]
  },
  {
   "cell_type": "markdown",
   "metadata": {},
   "source": [
    "## This is a notebook about General Adversarial Networks. Data from Kaggle : https://www.kaggle.com/ikarus777/best-artworks-of-all-time. "
   ]
  },
  {
   "cell_type": "code",
   "execution_count": null,
   "metadata": {},
   "outputs": [],
   "source": [
    "import keras\n",
    "from keras.optimizers import Adam\n",
    "from keras.layers import Dense, Dropout, Input, BatchNormalization, Reshape, Flatten\n",
    "from keras.models import Model,Sequential\n",
    "from tqdm import tqdm\n",
    "from keras.preprocessing.image import load_img, save_img, img_to_array\n",
    "from keras.layers.advanced_activations import LeakyReLU\n",
    "\n",
    "from random import shuffle\n",
    "import matplotlib.pyplot as plt\n",
    "import numpy as np\n",
    "import pandas as pd\n",
    "import os\n",
    "import time\n",
    "\n",
    "\n",
    "DATA_PATH = \"D:/Mady/Data/130081_310927_bundle_archive/images/images/Vincent_van_Gogh/Vincent_van_Gogh_706.jpg\"\n",
    "RESIZED_PATH = \"D:/Mady/Data/130081_310927_bundle_archive/resized/resized/\"\n",
    "OUTPUT_PATH = \"D:/Mady/Data/130081_310927_bundle_archive/artists.csv\"\n",
    "SAVED_DATA_PATH = \"data/\"\n",
    "RESULTS_DATA_PATH = \"results/\""
   ]
  },
  {
   "cell_type": "markdown",
   "metadata": {},
   "source": [
    "# GETTING THE DATA"
   ]
  },
  {
   "cell_type": "code",
   "execution_count": null,
   "metadata": {},
   "outputs": [],
   "source": [
    "def preprocess_image(img, NEW_WIDTH=128, NEW_HEIGHT=128):\n",
    "    loaded_img = load_img(img)\n",
    "    resized_img = loaded_img.resize((NEW_WIDTH, NEW_HEIGHT))\n",
    "    new_img = np.array(img_to_array(resized_img))\n",
    "    return new_img"
   ]
  },
  {
   "cell_type": "code",
   "execution_count": null,
   "metadata": {},
   "outputs": [],
   "source": [
    "\n",
    "output_df = pd.read_csv(OUTPUT_PATH)\n",
    "paintings=[]\n",
    "outputs=[]\n",
    "gallery= os.listdir(RESIZED_PATH)\n",
    "for painting in gallery:\n",
    "    paintings.append(preprocess_image(RESIZED_PATH+painting))\n",
    "    outputs.append(output_df[output_df['name'].str.contains(painting.split(\"_\")[0])][\"id\"].iloc[0])\n",
    "\n",
    "print(len(paintings))\n",
    "print(len(outputs))\n",
    "\n",
    "zipped = list(zip(paintings,outputs))\n",
    "shuffle(zipped)\n",
    "paintings, outputs = zip(*zipped)\n",
    "paintings = np.stack(paintings)"
   ]
  },
  {
   "cell_type": "code",
   "execution_count": null,
   "metadata": {},
   "outputs": [],
   "source": [
    "#Get some information here!!\n",
    "print(paintings.shape)\n",
    "print(len(paintings))\n",
    "#paintings = paintings.reshape(8683, 16384, 3 )\n",
    "print(paintings.shape)"
   ]
  },
  {
   "cell_type": "code",
   "execution_count": null,
   "metadata": {},
   "outputs": [],
   "source": [
    "#Divide training set 90% of paintings to testing/validation set 10% of paintings\n",
    "NUM_PAINTINGS = len(paintings)\n",
    "x_train, x_test = paintings[:round(NUM_PAINTINGS*0.9)], paintings[round(NUM_PAINTINGS*0.9):]\n",
    "y_train, y_test = outputs[:round(NUM_PAINTINGS*0.9)], outputs[round(NUM_PAINTINGS*0.9):]"
   ]
  },
  {
   "cell_type": "code",
   "execution_count": null,
   "metadata": {},
   "outputs": [],
   "source": [
    "#Get some more information here!!\n",
    "print(len(x_train))\n",
    "print(len(x_test))\n",
    "print(len(y_train))\n",
    "print(len(y_test))"
   ]
  },
  {
   "cell_type": "code",
   "execution_count": null,
   "metadata": {},
   "outputs": [],
   "source": [
    "print(x_train.shape)"
   ]
  },
  {
   "cell_type": "code",
   "execution_count": null,
   "metadata": {},
   "outputs": [],
   "source": [
    "#serialize the data into folder using np.save and load later using np.load\n",
    "np.save(SAVED_DATA_PATH+\"x_train.npy\", x_train)\n",
    "np.save(SAVED_DATA_PATH+\"y_train.npy\", y_train)\n",
    "np.save(SAVED_DATA_PATH+\"x_test.npy\", x_test)\n",
    "np.save(SAVED_DATA_PATH+\"y_test.npy\", y_test)"
   ]
  },
  {
   "cell_type": "markdown",
   "metadata": {},
   "source": [
    "# VISUALIZING THE DATA"
   ]
  },
  {
   "cell_type": "code",
   "execution_count": null,
   "metadata": {
    "scrolled": true
   },
   "outputs": [],
   "source": [
    "from keras.datasets import mnist\n",
    "\n",
    "(x_train, y_train), (x_test,y_test) = mnist.load_data()\n",
    "print(x_train.shape)\n",
    "print(y_train.shape)\n",
    "print(x_test.shape)\n",
    "print(y_test.shape)\n",
    "\n",
    "plt.figure()\n",
    "plt.title(\"Random e.g.\", fontsize=20)\n",
    "plt.imshow(x_train[2].astype(int))\n",
    "print(y_train[2])"
   ]
  },
  {
   "cell_type": "code",
   "execution_count": null,
   "metadata": {},
   "outputs": [],
   "source": [
    "\n",
    "##im1= np.array(img_to_array(load_img(DATA_PATH)))\n",
    "##im2= np.array(img_to_array(load_img(RESIZED_PATH)))\n",
    "\n",
    "\n",
    "#im1b= np.array(img_to_array(load_img(\"D:/Mady/Data/130081_310927_bundle_archive/images/images/Vincent_van_Gogh/Vincent_van_Gogh_708.jpg\")))\n",
    "im2b= \"D:/Mady/Data/130081_310927_bundle_archive/resized/resized/Vincent_van_Gogh_707.jpg\"\n",
    "\n",
    "\n",
    "im2b = preprocess_image(im2b, 300, 300)\n",
    "print(im2b.shape)\n",
    "\n",
    "plt.figure(1)\n",
    "plt.title(\"Random e.g.\", fontsize=20)\n",
    "plt.imshow(im2b.astype(int))\n",
    "\n",
    "\n",
    "\n",
    "im2b = im2b/256\n",
    "print(im2b.shape)\n",
    "im2b.flatten()\n",
    "print(im2b.shape)\n",
    "plt.figure(2)\n",
    "plt.title(\"Random e.g.2\", fontsize=20)\n",
    "plt.imshow(im2b.astype(int))\n"
   ]
  },
  {
   "cell_type": "markdown",
   "metadata": {},
   "source": [
    "# BUILDING THE MODEL"
   ]
  },
  {
   "cell_type": "code",
   "execution_count": null,
   "metadata": {},
   "outputs": [],
   "source": [
    "def adam_optimizer():\n",
    "    return Adam(lr=0.0002, beta_1=0.5)"
   ]
  },
  {
   "cell_type": "code",
   "execution_count": null,
   "metadata": {},
   "outputs": [],
   "source": [
    "def build_generator(rows,cols,channels):\n",
    "    model = Sequential()\n",
    "    #shape of noise = input_shape\n",
    "    model.add(Dense(256, input_shape=(100,)))\n",
    "    model.add(LeakyReLU(alpha=0.2))\n",
    "    model.add(BatchNormalization(momentum=0.8))\n",
    "    \n",
    "    model.add(Dense(512))\n",
    "    model.add(LeakyReLU(alpha=0.2))\n",
    "    model.add(BatchNormalization(momentum=0.8))\n",
    "    \n",
    "    model.add(Dense(1024))\n",
    "    model.add(LeakyReLU(alpha=0.2))\n",
    "    model.add(BatchNormalization(momentum=0.8))\n",
    "    \n",
    "    #rows= 128, cols= 128, channels= 3\n",
    "    model.add(Dense(np.prod((rows,cols,channels)), activation='tanh'))\n",
    "    model.add(Reshape((rows,cols,channels)))\n",
    "    \n",
    "    noise = Input(shape=(100,))\n",
    "    img = model(noise)\n",
    "    model = Model(noise,img)\n",
    "    model.compile(loss='binary_crossentropy', optimizer=adam_optimizer())\n",
    "    model.summary()\n",
    "    return model\n",
    "\n",
    "generator = build_generator(128,128,3)\n",
    "    \n",
    "    "
   ]
  },
  {
   "cell_type": "code",
   "execution_count": null,
   "metadata": {},
   "outputs": [],
   "source": [
    "def build_discriminator(rows,cols,channels):\n",
    "    model = Sequential()\n",
    "    model.add(Flatten(input_shape=(rows,cols,channels)))\n",
    "        \n",
    "    model.add(Dense(1024, input_dim=np.prod((rows,cols,channels)) ))\n",
    "    model.add(LeakyReLU(alpha=0.2))\n",
    "    model.add(Dropout(0.3))\n",
    "    \n",
    "    model.add(Dense(512))\n",
    "    model.add(LeakyReLU(alpha=0.2))\n",
    "    model.add(Dropout(0.3))\n",
    "    \n",
    "    model.add(Dense(units=256))\n",
    "    model.add(LeakyReLU(0.2))\n",
    "\n",
    "    model.add(Dense(1, activation='sigmoid'))\n",
    "    \n",
    "    img = Input(shape=(rows,cols,channels))\n",
    "    valid = model(img)\n",
    "    model = Model(img, validity)\n",
    "    model.compile(loss='binary_crossentropy', optimizer=adam_optimizer(), metrics=['accuracy'])\n",
    "    model.summary()\n",
    "    return model\n",
    "\n",
    "discriminator = build_discriminator(128,128,3)\n",
    "\n"
   ]
  },
  {
   "cell_type": "code",
   "execution_count": null,
   "metadata": {},
   "outputs": [],
   "source": [
    "class GAN():\n",
    "    def __init__(self, generator, discriminator):\n",
    "        self.generator = generator\n",
    "        self.discriminator = discriminator\n",
    "        self.gan = self.build_gan()\n",
    "        \n",
    "    def build_gan(self):\n",
    "        self.discriminator.trainable = False\n",
    "        gan_input = Input(shape=(100,))\n",
    "        discriminator_input = self.generator(gan_input)\n",
    "        gan_output = self.discriminator(discriminator_input)\n",
    "    \n",
    "        gan = Model(gan_input, gan_output)\n",
    "        gan.compile(loss='binary_crossentropy', optimizer='adam')\n",
    "        gan.summary()\n",
    "        return gan\n",
    "\n",
    "gan = GAN(generator, discriminator)"
   ]
  },
  {
   "cell_type": "markdown",
   "metadata": {},
   "source": [
    "# VISUALIZING THE RESULTS"
   ]
  },
  {
   "cell_type": "code",
   "execution_count": null,
   "metadata": {},
   "outputs": [],
   "source": [
    "def plot_generator_images(generator, epoch, examples=100):\n",
    "    noise = np.random.normal(loc=0, scale=1, size=[examples,100])\n",
    "    \n",
    "    generated_images = generator.predict(noise) #.reshape(examples,128,128,3)\n",
    "    print(generated_images.shape)\n",
    "    print(generated_images[1].shape)\n",
    "    print(generated_images[1][1][1])\n",
    "    #time.sleep(1928132)\n",
    "    \n",
    "    \n",
    "    plt.figure(figsize=(10,10))\n",
    "    for i in range(examples):\n",
    "        plt.subplot(10,10,i+1)\n",
    "        plt.imshow(generated_images[i], interpolation='nearest')\n",
    "        plt.axis('off')\n",
    "    plt.tight_layout()\n",
    "    plt.savefig(RESULTS_DATA_PATH+\"epoch_\"+str(epoch)+\" gan_generated_image.png\")\n",
    "    "
   ]
  },
  {
   "cell_type": "markdown",
   "metadata": {},
   "source": [
    "# TRAINING THE MODEL"
   ]
  },
  {
   "cell_type": "code",
   "execution_count": null,
   "metadata": {},
   "outputs": [],
   "source": [
    "#load the dataset\n",
    "x_train, y_train = np.load(SAVED_DATA_PATH+\"x_train.npy\"), np.load(SAVED_DATA_PATH+\"y_train.npy\")\n",
    "x_test, y_test = np.load(SAVED_DATA_PATH+\"x_test.npy\"), np.load(SAVED_DATA_PATH+\"y_test.npy\")"
   ]
  },
  {
   "cell_type": "code",
   "execution_count": null,
   "metadata": {},
   "outputs": [],
   "source": [
    "def train_model(x_train, y_train, x_test, y_test, gan, epochs=1, batch_size=128):\n",
    "    \n",
    "    #how many batches\n",
    "    batch_count = x_train.shape[0] / batch_size\n",
    "    \n",
    "    for epoch in range(1, epochs+1):\n",
    "        print(\"Epoch: \"+str(epoch))\n",
    "        for _ in tqdm(range(batch_size)):\n",
    "            #generate random noise\n",
    "            noise= np.random.normal(0,1, [batch_size, 100])\n",
    "            \n",
    "            #generate fake painting image from noise input\n",
    "            generated_images = gan.generator.predict(noise)\n",
    "            \n",
    "            #get a random set of real images\n",
    "            #print(\"OK here is where the issue may be\")\n",
    "            #print(x_train.shape)\n",
    "            num = np.random.randint(low=0,high=x_train.shape[0],size=batch_size)\n",
    "            #print(num)\n",
    "            image_batch = x_train[num]\n",
    "            \n",
    "            #construct different batches of real and fake data\n",
    "            #print(image_batch.shape)\n",
    "            #print(generated_images.shape)\n",
    "            x = np.concatenate([image_batch, generated_images])\n",
    "            \n",
    "            # Labels for generated and real data\n",
    "            y_dis=np.zeros(2*batch_size)\n",
    "            y_dis[:batch_size]=0.9\n",
    "            \n",
    "            #Pre train discriminator on  fake and real data  before starting the gan. \n",
    "            gan.discriminator.trainable=True\n",
    "            gan.discriminator.train_on_batch(x, y_dis)\n",
    "            \n",
    "            #Tricking the noised input of the Generator as real data\n",
    "            noise= np.random.normal(0,1, [batch_size, 100])\n",
    "            y_gen = np.ones(batch_size)\n",
    "            \n",
    "            # During the training of gan, \n",
    "            # the weights of discriminator should be fixed. \n",
    "            #We can enforce that by setting the trainable flag\n",
    "            discriminator.trainable=False\n",
    "            \n",
    "            #training  the GAN by alternating the training of the Discriminator \n",
    "            #and training the chained GAN model with Discriminator’s weights freezed.\n",
    "            print(noise.shape)\n",
    "            print(y_gen.shape)\n",
    "            gan.gan.train_on_batch(noise, y_gen)\n",
    "            \n",
    "            if (epoch == 20) or (epoch % 20 == 0):\n",
    "                plot_genrator_images(generator, epoch)\n",
    "                \n",
    "                "
   ]
  },
  {
   "cell_type": "code",
   "execution_count": null,
   "metadata": {},
   "outputs": [],
   "source": [
    "train_model(x_train, y_train, x_test, y_test, gan, 100)"
   ]
  },
  {
   "cell_type": "code",
   "execution_count": null,
   "metadata": {},
   "outputs": [],
   "source": []
  }
 ],
 "metadata": {
  "kernelspec": {
   "display_name": "Python 3",
   "language": "python",
   "name": "python3"
  },
  "language_info": {
   "codemirror_mode": {
    "name": "ipython",
    "version": 3
   },
   "file_extension": ".py",
   "mimetype": "text/x-python",
   "name": "python",
   "nbconvert_exporter": "python",
   "pygments_lexer": "ipython3",
   "version": "3.7.4"
  }
 },
 "nbformat": 4,
 "nbformat_minor": 2
}
