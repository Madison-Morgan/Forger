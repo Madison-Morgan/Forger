{
 "cells": [
  {
   "cell_type": "markdown",
   "metadata": {},
   "source": [
    "# FORGER"
   ]
  },
  {
   "cell_type": "markdown",
   "metadata": {},
   "source": [
    "## This is a notebook about General Adversarial Networks. Data from Kaggle : https://www.kaggle.com/ikarus777/best-artworks-of-all-time. "
   ]
  },
  {
   "cell_type": "code",
   "execution_count": 1,
   "metadata": {},
   "outputs": [
    {
     "name": "stderr",
     "output_type": "stream",
     "text": [
      "Using TensorFlow backend.\n"
     ]
    }
   ],
   "source": [
    "import keras\n",
    "from keras.optimizers import Adam\n",
    "from keras.layers import Dense, Dropout, Input, BatchNormalization, Reshape, Flatten\n",
    "from keras.models import Model,Sequential\n",
    "from tqdm import tqdm\n",
    "from keras.preprocessing.image import load_img, save_img, img_to_array\n",
    "from keras.layers.advanced_activations import LeakyReLU\n",
    "\n",
    "from random import shuffle\n",
    "import matplotlib.pyplot as plt\n",
    "import numpy as np\n",
    "import pandas as pd\n",
    "import os\n",
    "\n",
    "\n",
    "DATA_PATH = \"D:/Mady/Data/130081_310927_bundle_archive/images/images/Vincent_van_Gogh/Vincent_van_Gogh_706.jpg\"\n",
    "RESIZED_PATH = \"D:/Mady/Data/130081_310927_bundle_archive/resized/resized/\"\n",
    "OUTPUT_PATH = \"D:/Mady/Data/130081_310927_bundle_archive/artists.csv\"\n",
    "SAVED_DATA_PATH = \"data/\"\n",
    "RESULTS_DATA_PATH = \"results/\""
   ]
  },
  {
   "cell_type": "markdown",
   "metadata": {},
   "source": [
    "# GETTING THE DATA"
   ]
  },
  {
   "cell_type": "code",
   "execution_count": 2,
   "metadata": {},
   "outputs": [],
   "source": [
    "def preprocess_image(img, NEW_WIDTH=128, NEW_HEIGHT=128):\n",
    "    loaded_img = load_img(img)\n",
    "    resized_img = loaded_img.resize((NEW_WIDTH, NEW_HEIGHT))\n",
    "    new_img = np.array(img_to_array(resized_img))\n",
    "    return new_img"
   ]
  },
  {
   "cell_type": "code",
   "execution_count": null,
   "metadata": {
    "scrolled": true
   },
   "outputs": [],
   "source": [
    "from keras.datasets import mnist\n",
    "\n",
    "(x_train, y_train), (x_test,y_test) = mnist.load_data()\n",
    "print(x_train.shape)\n",
    "print(y_train.shape)\n",
    "print(x_test.shape)\n",
    "print(y_test.shape)\n",
    "\n",
    "plt.figure()\n",
    "plt.title(\"Random e.g.\", fontsize=20)\n",
    "plt.imshow(x_train[2].astype(int))\n",
    "print(y_train[2])"
   ]
  },
  {
   "cell_type": "markdown",
   "metadata": {},
   "source": [
    "# VISUALIZING THE DATA"
   ]
  },
  {
   "cell_type": "code",
   "execution_count": null,
   "metadata": {},
   "outputs": [],
   "source": [
    "\n",
    "##im1= np.array(img_to_array(load_img(DATA_PATH)))\n",
    "##im2= np.array(img_to_array(load_img(RESIZED_PATH)))\n",
    "\n",
    "\n",
    "#im1b= np.array(img_to_array(load_img(\"D:/Mady/Data/130081_310927_bundle_archive/images/images/Vincent_van_Gogh/Vincent_van_Gogh_708.jpg\")))\n",
    "im2b= \"D:/Mady/Data/130081_310927_bundle_archive/resized/resized/Vincent_van_Gogh_707.jpg\"\n",
    "\n",
    "\n",
    "im2b = preprocess_image(im2b, 300, 300)\n",
    "print(im2b.shape)\n",
    "\n",
    "plt.figure(1)\n",
    "plt.title(\"Random e.g.\", fontsize=20)\n",
    "plt.imshow(im2b.astype(int))\n",
    "\n",
    "\n",
    "\n",
    "im2b = im2b/256\n",
    "print(im2b.shape)\n",
    "im2b.flatten()\n",
    "print(im2b.shape)\n",
    "plt.figure(2)\n",
    "plt.title(\"Random e.g.2\", fontsize=20)\n",
    "plt.imshow(im2b.astype(int))\n"
   ]
  },
  {
   "cell_type": "code",
   "execution_count": 4,
   "metadata": {},
   "outputs": [
    {
     "name": "stdout",
     "output_type": "stream",
     "text": [
      "8683\n",
      "8683\n"
     ]
    }
   ],
   "source": [
    "\n",
    "output_df = pd.read_csv(OUTPUT_PATH)\n",
    "paintings=[]\n",
    "outputs=[]\n",
    "gallery= os.listdir(RESIZED_PATH)\n",
    "for painting in gallery:\n",
    "    paintings.append(preprocess_image(RESIZED_PATH+painting))\n",
    "    outputs.append(output_df[output_df['name'].str.contains(painting.split(\"_\")[0])][\"id\"].iloc[0])\n",
    "\n",
    "print(len(paintings))\n",
    "print(len(outputs))\n",
    "\n",
    "zipped = list(zip(paintings,outputs))\n",
    "shuffle(zipped)\n",
    "paintings, outputs = zip(*zipped)\n",
    "paintings = np.stack(paintings)"
   ]
  },
  {
   "cell_type": "code",
   "execution_count": 5,
   "metadata": {},
   "outputs": [
    {
     "name": "stdout",
     "output_type": "stream",
     "text": [
      "(8683, 128, 128, 3)\n",
      "8683\n",
      "(8683, 16384, 3)\n"
     ]
    }
   ],
   "source": [
    "\n",
    "print(paintings.shape)\n",
    "print(len(paintings))\n",
    "paintings = paintings.reshape(8683, 16384, 3 )\n",
    "print(paintings.shape)"
   ]
  },
  {
   "cell_type": "code",
   "execution_count": 6,
   "metadata": {},
   "outputs": [],
   "source": [
    "NUM_PAINTINGS = len(paintings)\n",
    "x_train, x_test = paintings[:round(NUM_PAINTINGS*0.9)], paintings[round(NUM_PAINTINGS*0.9):]\n",
    "y_train, y_test = outputs[:round(NUM_PAINTINGS*0.9)], outputs[round(NUM_PAINTINGS*0.9):]"
   ]
  },
  {
   "cell_type": "code",
   "execution_count": 7,
   "metadata": {},
   "outputs": [
    {
     "name": "stdout",
     "output_type": "stream",
     "text": [
      "7815\n",
      "868\n",
      "7815\n",
      "868\n"
     ]
    }
   ],
   "source": [
    "print(len(x_train))\n",
    "print(len(x_test))\n",
    "print(len(y_train))\n",
    "print(len(y_test))"
   ]
  },
  {
   "cell_type": "code",
   "execution_count": 8,
   "metadata": {},
   "outputs": [
    {
     "name": "stdout",
     "output_type": "stream",
     "text": [
      "(7815, 16384, 3)\n"
     ]
    }
   ],
   "source": [
    "print(x_train.shape)"
   ]
  },
  {
   "cell_type": "code",
   "execution_count": 9,
   "metadata": {},
   "outputs": [],
   "source": [
    "#serialize the data into folder using np.save and load later using np.load\n",
    "np.save(SAVED_DATA_PATH+\"x_train.npy\", x_train)\n",
    "np.save(SAVED_DATA_PATH+\"y_train.npy\", y_train)\n",
    "np.save(SAVED_DATA_PATH+\"x_test.npy\", x_test)\n",
    "np.save(SAVED_DATA_PATH+\"y_test.npy\", y_test)"
   ]
  },
  {
   "cell_type": "markdown",
   "metadata": {},
   "source": [
    "# BUILDING THE MODEL"
   ]
  },
  {
   "cell_type": "code",
   "execution_count": 10,
   "metadata": {},
   "outputs": [],
   "source": [
    "def adam_optimizer():\n",
    "    return Adam(lr=0.0002, beta_1=0.5)"
   ]
  },
  {
   "cell_type": "code",
   "execution_count": 11,
   "metadata": {},
   "outputs": [
    {
     "name": "stdout",
     "output_type": "stream",
     "text": [
      "Model: \"sequential_1\"\n",
      "_________________________________________________________________\n",
      "Layer (type)                 Output Shape              Param #   \n",
      "=================================================================\n",
      "dense_1 (Dense)              (None, 256)               25856     \n",
      "_________________________________________________________________\n",
      "leaky_re_lu_1 (LeakyReLU)    (None, 256)               0         \n",
      "_________________________________________________________________\n",
      "batch_normalization_1 (Batch (None, 256)               1024      \n",
      "_________________________________________________________________\n",
      "dense_2 (Dense)              (None, 512)               131584    \n",
      "_________________________________________________________________\n",
      "leaky_re_lu_2 (LeakyReLU)    (None, 512)               0         \n",
      "_________________________________________________________________\n",
      "batch_normalization_2 (Batch (None, 512)               2048      \n",
      "_________________________________________________________________\n",
      "dense_3 (Dense)              (None, 1024)              525312    \n",
      "_________________________________________________________________\n",
      "leaky_re_lu_3 (LeakyReLU)    (None, 1024)              0         \n",
      "_________________________________________________________________\n",
      "batch_normalization_3 (Batch (None, 1024)              4096      \n",
      "_________________________________________________________________\n",
      "dense_4 (Dense)              (None, 49152)             50380800  \n",
      "_________________________________________________________________\n",
      "reshape_1 (Reshape)          (None, 128, 128, 3)       0         \n",
      "=================================================================\n",
      "Total params: 51,070,720\n",
      "Trainable params: 51,067,136\n",
      "Non-trainable params: 3,584\n",
      "_________________________________________________________________\n"
     ]
    }
   ],
   "source": [
    "def build_generator(rows,cols,channels):\n",
    "    model = Sequential()\n",
    "    #shape of noise = input_shape\n",
    "    model.add(Dense(256, input_shape=(100,)))\n",
    "    model.add(LeakyReLU(alpha=0.2))\n",
    "    model.add(BatchNormalization(momentum=0.8))\n",
    "    \n",
    "    model.add(Dense(512))\n",
    "    model.add(LeakyReLU(alpha=0.2))\n",
    "    model.add(BatchNormalization(momentum=0.8))\n",
    "    \n",
    "    model.add(Dense(1024))\n",
    "    model.add(LeakyReLU(alpha=0.2))\n",
    "    model.add(BatchNormalization(momentum=0.8))\n",
    "    \n",
    "    #rows= 128, cols= 128, channels= 3\n",
    "    model.add(Dense(np.prod((rows,cols,channels)), activation='tanh'))\n",
    "    model.add(Reshape((rows,cols,channels)))\n",
    "    \n",
    "    model.compile(loss='binary_crossentropy', optimizer=adam_optimizer())\n",
    "    model.summary()\n",
    "    return model\n",
    "\n",
    "generator = build_generator(128,128,3)\n",
    "    \n",
    "    "
   ]
  },
  {
   "cell_type": "code",
   "execution_count": 12,
   "metadata": {},
   "outputs": [
    {
     "name": "stdout",
     "output_type": "stream",
     "text": [
      "Model: \"sequential_2\"\n",
      "_________________________________________________________________\n",
      "Layer (type)                 Output Shape              Param #   \n",
      "=================================================================\n",
      "flatten_1 (Flatten)          (None, 49152)             0         \n",
      "_________________________________________________________________\n",
      "dense_5 (Dense)              (None, 1024)              50332672  \n",
      "_________________________________________________________________\n",
      "leaky_re_lu_4 (LeakyReLU)    (None, 1024)              0         \n",
      "_________________________________________________________________\n",
      "dropout_1 (Dropout)          (None, 1024)              0         \n",
      "_________________________________________________________________\n",
      "dense_6 (Dense)              (None, 512)               524800    \n",
      "_________________________________________________________________\n",
      "leaky_re_lu_5 (LeakyReLU)    (None, 512)               0         \n",
      "_________________________________________________________________\n",
      "dropout_2 (Dropout)          (None, 512)               0         \n",
      "_________________________________________________________________\n",
      "dense_7 (Dense)              (None, 256)               131328    \n",
      "_________________________________________________________________\n",
      "leaky_re_lu_6 (LeakyReLU)    (None, 256)               0         \n",
      "_________________________________________________________________\n",
      "dense_8 (Dense)              (None, 1)                 257       \n",
      "=================================================================\n",
      "Total params: 50,989,057\n",
      "Trainable params: 50,989,057\n",
      "Non-trainable params: 0\n",
      "_________________________________________________________________\n"
     ]
    }
   ],
   "source": [
    "def build_discriminator(rows,cols,channels):\n",
    "    model = Sequential()\n",
    "    model.add(Flatten(input_shape=(rows,cols,channels)))\n",
    "        \n",
    "    model.add(Dense(1024, input_dim=np.prod((rows,cols,channels)) ))\n",
    "    model.add(LeakyReLU(alpha=0.2))\n",
    "    model.add(Dropout(0.3))\n",
    "    \n",
    "    model.add(Dense(512))\n",
    "    model.add(LeakyReLU(alpha=0.2))\n",
    "    model.add(Dropout(0.3))\n",
    "    \n",
    "    model.add(Dense(units=256))\n",
    "    model.add(LeakyReLU(0.2))\n",
    "\n",
    "    model.add(Dense(1, activation='sigmoid'))\n",
    "    \n",
    "    model.compile(loss='binary_crossentropy', optimizer=adam_optimizer())\n",
    "    model.summary()\n",
    "    return model\n",
    "\n",
    "discriminator = build_discriminator(128,128,3)\n",
    "\n"
   ]
  },
  {
   "cell_type": "code",
   "execution_count": 14,
   "metadata": {},
   "outputs": [
    {
     "name": "stdout",
     "output_type": "stream",
     "text": [
      "Model: \"model_1\"\n",
      "_________________________________________________________________\n",
      "Layer (type)                 Output Shape              Param #   \n",
      "=================================================================\n",
      "input_1 (InputLayer)         (None, 100)               0         \n",
      "_________________________________________________________________\n",
      "sequential_1 (Sequential)    (None, 128, 128, 3)       51070720  \n",
      "_________________________________________________________________\n",
      "sequential_2 (Sequential)    (None, 1)                 50989057  \n",
      "=================================================================\n",
      "Total params: 102,059,777\n",
      "Trainable params: 51,067,136\n",
      "Non-trainable params: 50,992,641\n",
      "_________________________________________________________________\n"
     ]
    },
    {
     "data": {
      "text/plain": [
       "<keras.engine.training.Model at 0x25ac767f848>"
      ]
     },
     "execution_count": 14,
     "metadata": {},
     "output_type": "execute_result"
    }
   ],
   "source": [
    "def build_gan(generator, discriminator):\n",
    "    discriminator.trainable = False\n",
    "    gan_input = Input(shape=(100,))\n",
    "    discriminator_input = generator(gan_input)\n",
    "    gan_output = discriminator(discriminator_input)\n",
    "    \n",
    "    gan = Model(inputs=gan_input, outputs=gan_output)\n",
    "    gan.compile(loss='binary_crossentropy', optimizer='adam')\n",
    "    gan.summary()\n",
    "    return gan\n",
    "\n",
    "build_gan(generator, discriminator)"
   ]
  },
  {
   "cell_type": "markdown",
   "metadata": {},
   "source": [
    "# TRAINING THE MODEL"
   ]
  },
  {
   "cell_type": "code",
   "execution_count": 13,
   "metadata": {},
   "outputs": [],
   "source": [
    "#load the dataset\n",
    "x_train, y_train = np.load(SAVED_DATA_PATH+\"x_train.npy\"), np.load(SAVED_DATA_PATH+\"y_train.npy\")\n",
    "x_test, y_test = np.load(SAVED_DATA_PATH+\"x_test.npy\"), np.load(SAVED_DATA_PATH+\"y_test.npy\")"
   ]
  },
  {
   "cell_type": "code",
   "execution_count": null,
   "metadata": {},
   "outputs": [],
   "source": [
    "def train_model(epochs=1, batch_size):\n",
    "    "
   ]
  },
  {
   "cell_type": "code",
   "execution_count": null,
   "metadata": {},
   "outputs": [],
   "source": []
  },
  {
   "cell_type": "markdown",
   "metadata": {},
   "source": [
    "# VISUALIZING THE RESULTS"
   ]
  },
  {
   "cell_type": "code",
   "execution_count": null,
   "metadata": {},
   "outputs": [],
   "source": []
  }
 ],
 "metadata": {
  "kernelspec": {
   "display_name": "Python 3",
   "language": "python",
   "name": "python3"
  },
  "language_info": {
   "codemirror_mode": {
    "name": "ipython",
    "version": 3
   },
   "file_extension": ".py",
   "mimetype": "text/x-python",
   "name": "python",
   "nbconvert_exporter": "python",
   "pygments_lexer": "ipython3",
   "version": "3.7.4"
  }
 },
 "nbformat": 4,
 "nbformat_minor": 2
}
